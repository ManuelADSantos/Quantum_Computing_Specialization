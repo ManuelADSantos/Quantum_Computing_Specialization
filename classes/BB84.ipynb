{
 "cells": [
  {
   "cell_type": "code",
   "execution_count": 329,
   "id": "ccdfd878",
   "metadata": {},
   "outputs": [],
   "source": [
    "%%capture\n",
    "%pip install qiskit qiskit-aer pandas pylatexenc matplotlib"
   ]
  },
  {
   "cell_type": "code",
   "execution_count": 330,
   "id": "ff171516",
   "metadata": {},
   "outputs": [
    {
     "data": {
      "text/plain": [
       "'2.2.1'"
      ]
     },
     "execution_count": 330,
     "metadata": {},
     "output_type": "execute_result"
    }
   ],
   "source": [
    "from qiskit import __version__\n",
    "__version__"
   ]
  },
  {
   "cell_type": "code",
   "execution_count": 331,
   "id": "78307ee7",
   "metadata": {},
   "outputs": [],
   "source": [
    "import numpy as np\n",
    "import pandas as pd\n",
    "\n",
    "from qiskit import QuantumRegister, ClassicalRegister, QuantumCircuit\n",
    "from qiskit_aer import AerSimulator"
   ]
  },
  {
   "cell_type": "markdown",
   "id": "92b23cfc",
   "metadata": {},
   "source": [
    "## Quantum doors\n",
    "\n",
    "X door -> Invert\n",
    "\n",
    "H door -> Hadamard (Sobreposition)\n",
    "\n",
    "SWAP door -> Send to another channel\n",
    "\n",
    "Take a look at https://quantum.cloud.ibm.com/composer?initial=N4IgjghgzgtiBcIDyAFAogOQIoEEDKAsgAQBMAdAAwDcAOgHYCWdAxgDYCuAJgKZE3jdWDAEYBGMk2b9ademABO3AOZEwAbQAsAXRnNFK5pp316IADQg6EGNwQgAqnQAuDJ626cizBvObtXIAC+QA"
   ]
  },
  {
   "cell_type": "markdown",
   "id": "4253fa06",
   "metadata": {},
   "source": [
    "## Without Eve"
   ]
  },
  {
   "cell_type": "code",
   "execution_count": 332,
   "id": "ac982e8d",
   "metadata": {},
   "outputs": [],
   "source": [
    "A = QuantumRegister(1, 'A')\n",
    "E = QuantumRegister(1, 'E')\n",
    "B = QuantumRegister(1, 'B')\n",
    "\n",
    "MB = ClassicalRegister(1, 'MB')\n",
    "ME = ClassicalRegister(1, 'ME')"
   ]
  },
  {
   "cell_type": "markdown",
   "id": "1e32c5e5",
   "metadata": {},
   "source": [
    "### Example"
   ]
  },
  {
   "cell_type": "code",
   "execution_count": 333,
   "id": "a3d7f39f",
   "metadata": {},
   "outputs": [
    {
     "data": {
      "text/plain": [
       "{'alice_bit': np.int64(0), 'alice_h': np.False_, 'bob_h': np.True_}"
      ]
     },
     "execution_count": 333,
     "metadata": {},
     "output_type": "execute_result"
    }
   ],
   "source": [
    "situation = {}\n",
    "situation['alice_bit'] = np.random.choice([0, 1])\n",
    "situation['alice_h'] = np.random.choice([True, False])\n",
    "situation['bob_h'] = np.random.choice([True, False])\n",
    "situation"
   ]
  },
  {
   "cell_type": "code",
   "execution_count": 334,
   "id": "f0748345",
   "metadata": {},
   "outputs": [
    {
     "data": {
      "text/html": [
       "<pre style=\"word-wrap: normal;white-space: pre;background: #fff0;line-height: 1.1;font-family: &quot;Courier New&quot;,Courier,monospace\">          ░     ░         \n",
       "   A: ─X──░─────░─────────\n",
       "       │  ░     ░         \n",
       "   E: ─X──░──X──░─────────\n",
       "          ░  │  ░ ┌───┐┌─┐\n",
       "   B: ────░──X──░─┤ H ├┤M├\n",
       "          ░     ░ └───┘└╥┘\n",
       "MB: 1/══════════════════╩═\n",
       "                        0 \n",
       "ME: 1/════════════════════\n",
       "                          </pre>"
      ],
      "text/plain": [
       "          ░     ░         \n",
       "   A: ─X──░─────░─────────\n",
       "       │  ░     ░         \n",
       "   E: ─X──░──X──░─────────\n",
       "          ░  │  ░ ┌───┐┌─┐\n",
       "   B: ────░──X──░─┤ H ├┤M├\n",
       "          ░     ░ └───┘└╥┘\n",
       "MB: 1/══════════════════╩═\n",
       "                        0 \n",
       "ME: 1/════════════════════\n",
       "                          "
      ]
     },
     "execution_count": 334,
     "metadata": {},
     "output_type": "execute_result"
    }
   ],
   "source": [
    "qc = QuantumCircuit(A, E, B, MB, ME)\n",
    "\n",
    "# We're going to use a few more commands here:\n",
    "# qc.h\n",
    "# qc.x\n",
    "# qc.swap\n",
    "# qc.barrier()\n",
    "# qc.measure(q, E)\n",
    "\n",
    "if situation['alice_bit']:\n",
    "    qc.x(A)\n",
    "    \n",
    "if situation['alice_h']:\n",
    "    qc.h(A)\n",
    "\n",
    "\n",
    "qc.swap(A,E)\n",
    "\n",
    "qc.barrier()\n",
    "\n",
    "qc.swap(E, B)\n",
    "\n",
    "qc.barrier()\n",
    "\n",
    "if situation['bob_h']:\n",
    "    qc.h(B)\n",
    "\n",
    "qc.measure(B,MB)\n",
    "qc.draw()"
   ]
  }
 ],
 "metadata": {
  "kernelspec": {
   "display_name": "Python 3",
   "language": "python",
   "name": "python3"
  },
  "language_info": {
   "codemirror_mode": {
    "name": "ipython",
    "version": 3
   },
   "file_extension": ".py",
   "mimetype": "text/x-python",
   "name": "python",
   "nbconvert_exporter": "python",
   "pygments_lexer": "ipython3",
   "version": "3.12.11"
  }
 },
 "nbformat": 4,
 "nbformat_minor": 5
}

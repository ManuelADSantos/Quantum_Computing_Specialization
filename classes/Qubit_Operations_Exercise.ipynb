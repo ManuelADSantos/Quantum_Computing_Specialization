{
  "cells": [
    {
      "cell_type": "markdown",
      "metadata": {
        "id": "9uvNuRtLp2Fx"
      },
      "source": [
        "# https://tinyurl.com/quantumuc2\n",
        "spratapsi.github.io"
      ]
    },
    {
      "cell_type": "code",
      "execution_count": 21,
      "metadata": {
        "id": "BvF5WyiQbb73"
      },
      "outputs": [],
      "source": [
        "%%capture\n",
        "%pip install qiskit pylatexenc qiskit-aer"
      ]
    },
    {
      "cell_type": "code",
      "execution_count": 22,
      "metadata": {
        "id": "hvCXpNxCbghu"
      },
      "outputs": [],
      "source": [
        "from qiskit import QuantumRegister, QuantumCircuit\n",
        "from qiskit.visualization import plot_histogram\n",
        "from qiskit_aer import AerSimulator\n",
        "\n",
        "simulator = AerSimulator()"
      ]
    },
    {
      "cell_type": "markdown",
      "metadata": {
        "id": "HTqTngXndtHM"
      },
      "source": [
        "Vamos relembrar os conceitos de circuitos quântico.\n",
        "Primeiro, temos de criar um (ou mais) qubits."
      ]
    },
    {
      "cell_type": "code",
      "execution_count": 23,
      "metadata": {
        "id": "v4CI4TXBdzNb"
      },
      "outputs": [],
      "source": [
        "qubits = QuantumRegister(1, name='q')"
      ]
    },
    {
      "cell_type": "markdown",
      "metadata": {
        "id": "OK0Z6ODHd7Sy"
      },
      "source": [
        "Agora, criamos um circuito com este qubit, para poder fazer operações."
      ]
    },
    {
      "cell_type": "code",
      "execution_count": 24,
      "metadata": {
        "id": "HNeKkbbXd9yy"
      },
      "outputs": [],
      "source": [
        "qc = QuantumCircuit(qubits)"
      ]
    },
    {
      "cell_type": "markdown",
      "metadata": {
        "id": "0CHbEg32eFXJ"
      },
      "source": [
        "Para já, não fazemos nenhuma operação.\n",
        "Vamos medir para saber que estado é que está a ser preparado."
      ]
    },
    {
      "cell_type": "code",
      "execution_count": 25,
      "metadata": {
        "colab": {
          "base_uri": "https://localhost:8080/",
          "height": 94
        },
        "id": "vQIFxxRYb21t",
        "outputId": "a3854581-d598-460a-f06f-0910aa67c43f"
      },
      "outputs": [
        {
          "data": {
            "text/html": [
              "<pre style=\"word-wrap: normal;white-space: pre;background: #fff0;line-height: 1.1;font-family: &quot;Courier New&quot;,Courier,monospace\">         ░ ┌─┐\n",
              "     q: ─░─┤M├\n",
              "         ░ └╥┘\n",
              "meas: 1/════╩═\n",
              "            0 </pre>"
            ],
            "text/plain": [
              "         ░ ┌─┐\n",
              "     q: ─░─┤M├\n",
              "         ░ └╥┘\n",
              "meas: 1/════╩═\n",
              "            0 "
            ]
          },
          "execution_count": 25,
          "metadata": {},
          "output_type": "execute_result"
        }
      ],
      "source": [
        "qc.measure_all()\n",
        "qc.draw()  # ou 'mpl', de matplotlib"
      ]
    },
    {
      "cell_type": "markdown",
      "metadata": {
        "id": "oFCG-o7GeSih"
      },
      "source": [
        "Agora, vamos correr esta \"experiência\" várias vezes para saber o resultado das medidas."
      ]
    },
    {
      "cell_type": "code",
      "execution_count": 26,
      "metadata": {
        "colab": {
          "base_uri": "https://localhost:8080/",
          "height": 504
        },
        "id": "oaQ_HfYDcVzL",
        "outputId": "98854e49-623d-49ae-f950-1b62c5df7f78"
      },
      "outputs": [
        {
          "name": "stdout",
          "output_type": "stream",
          "text": [
            "{'0': 1024}\n"
          ]
        },
        {
          "data": {
            "image/png": "[encoded data removed]",
            "text/plain": [
              "<Figure size 640x480 with 1 Axes>"
            ]
          },
          "execution_count": 26,
          "metadata": {},
          "output_type": "execute_result"
        }
      ],
      "source": [
        "job = simulator.run([qc], shots=1024)\n",
        "counts = job.result().get_counts()\n",
        "\n",
        "print(counts)\n",
        "plot_histogram(counts)"
      ]
    },
    {
      "cell_type": "markdown",
      "metadata": {
        "id": "ut69jdsaemfC"
      },
      "source": [
        "Vamos agora fazer a mesma coisa, mas fazendo a operação de \"mandar a moeda ao ar\"."
      ]
    },
    {
      "cell_type": "code",
      "execution_count": 27,
      "metadata": {
        "colab": {
          "base_uri": "https://localhost:8080/",
          "height": 94
        },
        "id": "M817aUtucymF",
        "outputId": "014a71da-5dcc-4f35-9fe9-269090759472"
      },
      "outputs": [
        {
          "data": {
            "text/html": [
              "<pre style=\"word-wrap: normal;white-space: pre;background: #fff0;line-height: 1.1;font-family: &quot;Courier New&quot;,Courier,monospace\">        ┌───┐ ░ ┌─┐\n",
              "     q: ┤ H ├─░─┤M├\n",
              "        └───┘ ░ └╥┘\n",
              "meas: 1/═════════╩═\n",
              "                 0 </pre>"
            ],
            "text/plain": [
              "        ┌───┐ ░ ┌─┐\n",
              "     q: ┤ H ├─░─┤M├\n",
              "        └───┘ ░ └╥┘\n",
              "meas: 1/═════════╩═\n",
              "                 0 "
            ]
          },
          "execution_count": 27,
          "metadata": {},
          "output_type": "execute_result"
        }
      ],
      "source": [
        "qc = QuantumCircuit(qubits)\n",
        "\n",
        "# Operação H (atirar a moeda ao ar)\n",
        "qc.h(0)\n",
        "\n",
        "qc.measure_all()\n",
        "qc.draw()"
      ]
    },
    {
      "cell_type": "markdown",
      "metadata": {
        "id": "fKD4XPkzetNu"
      },
      "source": [
        "Simulação"
      ]
    },
    {
      "cell_type": "code",
      "execution_count": 28,
      "metadata": {
        "colab": {
          "base_uri": "https://localhost:8080/",
          "height": 504
        },
        "id": "HyndvxtddAsu",
        "outputId": "03159dc0-4b92-4826-88b9-31b47a0c0b47"
      },
      "outputs": [
        {
          "name": "stdout",
          "output_type": "stream",
          "text": [
            "{'1': 520, '0': 504}\n"
          ]
        },
        {
          "data": {
            "image/png": "[encoded data removed]",
            "text/plain": [
              "<Figure size 640x480 with 1 Axes>"
            ]
          },
          "execution_count": 28,
          "metadata": {},
          "output_type": "execute_result"
        }
      ],
      "source": [
        "job = simulator.run([qc], shots=1024)\n",
        "counts = job.result().get_counts()\n",
        "\n",
        "print(counts)\n",
        "plot_histogram(counts)"
      ]
    },
    {
      "cell_type": "markdown",
      "metadata": {
        "id": "kR6cF8xPeyib"
      },
      "source": [
        "E se aplicarmos a operação duas vezes?"
      ]
    },
    {
      "cell_type": "code",
      "execution_count": 29,
      "metadata": {
        "colab": {
          "base_uri": "https://localhost:8080/",
          "height": 94
        },
        "id": "elGozkeeez_q",
        "outputId": "66c85837-38c4-46c7-b597-465485315a22"
      },
      "outputs": [
        {
          "data": {
            "text/html": [
              "<pre style=\"word-wrap: normal;white-space: pre;background: #fff0;line-height: 1.1;font-family: &quot;Courier New&quot;,Courier,monospace\">        ┌───┐┌───┐ ░ ┌─┐\n",
              "     q: ┤ H ├┤ H ├─░─┤M├\n",
              "        └───┘└───┘ ░ └╥┘\n",
              "meas: 1/══════════════╩═\n",
              "                      0 </pre>"
            ],
            "text/plain": [
              "        ┌───┐┌───┐ ░ ┌─┐\n",
              "     q: ┤ H ├┤ H ├─░─┤M├\n",
              "        └───┘└───┘ ░ └╥┘\n",
              "meas: 1/══════════════╩═\n",
              "                      0 "
            ]
          },
          "execution_count": 29,
          "metadata": {},
          "output_type": "execute_result"
        }
      ],
      "source": [
        "qc = QuantumCircuit(qubits)\n",
        "\n",
        "qc.h(0)\n",
        "qc.h(0)\n",
        "\n",
        "qc.measure_all()\n",
        "qc.draw()"
      ]
    },
    {
      "cell_type": "code",
      "execution_count": 30,
      "metadata": {
        "colab": {
          "base_uri": "https://localhost:8080/",
          "height": 504
        },
        "id": "zXoWflFQe5yQ",
        "outputId": "530e406d-d923-4c45-f741-daf5ad5ab100"
      },
      "outputs": [
        {
          "name": "stdout",
          "output_type": "stream",
          "text": [
            "{'0': 1024}\n"
          ]
        },
        {
          "data": {
            "image/png": "[encoded data removed]",
            "text/plain": [
              "<Figure size 640x480 with 1 Axes>"
            ]
          },
          "execution_count": 30,
          "metadata": {},
          "output_type": "execute_result"
        }
      ],
      "source": [
        "job = simulator.run([qc], shots=1024)\n",
        "counts = job.result().get_counts()\n",
        "\n",
        "print(counts)\n",
        "plot_histogram(counts)"
      ]
    },
    {
      "cell_type": "markdown",
      "metadata": {
        "id": "3x6QeD6ce_UY"
      },
      "source": [
        "Volta tudo ao estado inicial!\n",
        "\n",
        "Vamos agora ver como preparar o estado $|1⟩$ em vez de $|0⟩$"
      ]
    },
    {
      "cell_type": "code",
      "execution_count": 31,
      "metadata": {
        "colab": {
          "base_uri": "https://localhost:8080/",
          "height": 94
        },
        "id": "u9lw3IshfEL6",
        "outputId": "08286511-3e21-4cfa-a90f-cd1cc29662c7"
      },
      "outputs": [
        {
          "data": {
            "text/html": [
              "<pre style=\"word-wrap: normal;white-space: pre;background: #fff0;line-height: 1.1;font-family: &quot;Courier New&quot;,Courier,monospace\">        ┌───┐ ░ ┌─┐\n",
              "     q: ┤ X ├─░─┤M├\n",
              "        └───┘ ░ └╥┘\n",
              "meas: 1/═════════╩═\n",
              "                 0 </pre>"
            ],
            "text/plain": [
              "        ┌───┐ ░ ┌─┐\n",
              "     q: ┤ X ├─░─┤M├\n",
              "        └───┘ ░ └╥┘\n",
              "meas: 1/═════════╩═\n",
              "                 0 "
            ]
          },
          "execution_count": 31,
          "metadata": {},
          "output_type": "execute_result"
        }
      ],
      "source": [
        "qc = QuantumCircuit(qubits)\n",
        "\n",
        "qc.x(0)\n",
        "qc.measure_all()\n",
        "qc.draw()"
      ]
    },
    {
      "cell_type": "code",
      "execution_count": 32,
      "metadata": {
        "colab": {
          "base_uri": "https://localhost:8080/",
          "height": 504
        },
        "id": "l5QiSt0nfT2P",
        "outputId": "63267728-5387-43da-c420-3f7f690924c7"
      },
      "outputs": [
        {
          "name": "stdout",
          "output_type": "stream",
          "text": [
            "{'1': 1024, '0': 0}\n"
          ]
        },
        {
          "data": {
            "image/png": "[encoded data removed]",
            "text/plain": [
              "<Figure size 640x480 with 1 Axes>"
            ]
          },
          "execution_count": 32,
          "metadata": {},
          "output_type": "execute_result"
        }
      ],
      "source": [
        "job = simulator.run([qc], shots=1024)\n",
        "counts = job.result().get_counts()\n",
        "\n",
        "counts['0'] = 0\n",
        "print(counts)\n",
        "plot_histogram(counts)"
      ]
    },
    {
      "cell_type": "markdown",
      "metadata": {
        "id": "852LL1xqfdYz"
      },
      "source": [
        "Agora aplicamos a operação $H$ ao estado $|1⟩$."
      ]
    },
    {
      "cell_type": "code",
      "execution_count": 33,
      "metadata": {
        "colab": {
          "base_uri": "https://localhost:8080/",
          "height": 94
        },
        "id": "kDy74nSsfhob",
        "outputId": "6ea49db7-cbe8-4f6c-f3ea-570f568cb289"
      },
      "outputs": [
        {
          "data": {
            "text/html": [
              "<pre style=\"word-wrap: normal;white-space: pre;background: #fff0;line-height: 1.1;font-family: &quot;Courier New&quot;,Courier,monospace\">        ┌───┐┌───┐ ░ ┌─┐\n",
              "     q: ┤ X ├┤ H ├─░─┤M├\n",
              "        └───┘└───┘ ░ └╥┘\n",
              "meas: 1/══════════════╩═\n",
              "                      0 </pre>"
            ],
            "text/plain": [
              "        ┌───┐┌───┐ ░ ┌─┐\n",
              "     q: ┤ X ├┤ H ├─░─┤M├\n",
              "        └───┘└───┘ ░ └╥┘\n",
              "meas: 1/══════════════╩═\n",
              "                      0 "
            ]
          },
          "execution_count": 33,
          "metadata": {},
          "output_type": "execute_result"
        }
      ],
      "source": [
        "qc = QuantumCircuit(qubits)\n",
        "\n",
        "qc.x(0)\n",
        "qc.h(0)\n",
        "\n",
        "qc.measure_all()\n",
        "qc.draw()"
      ]
    },
    {
      "cell_type": "code",
      "execution_count": 34,
      "metadata": {
        "colab": {
          "base_uri": "https://localhost:8080/",
          "height": 504
        },
        "id": "ga96lD01fjmi",
        "outputId": "27d10e38-ba59-4d03-c17d-dc1133d12110"
      },
      "outputs": [
        {
          "name": "stdout",
          "output_type": "stream",
          "text": [
            "{'1': 535, '0': 489}\n"
          ]
        },
        {
          "data": {
            "image/png": "[encoded data removed]",
            "text/plain": [
              "<Figure size 640x480 with 1 Axes>"
            ]
          },
          "execution_count": 34,
          "metadata": {},
          "output_type": "execute_result"
        }
      ],
      "source": [
        "job = simulator.run([qc], shots=1024)\n",
        "counts = job.result().get_counts()\n",
        "\n",
        "print(counts)\n",
        "plot_histogram(counts)"
      ]
    },
    {
      "cell_type": "markdown",
      "metadata": {
        "id": "0h7ivjuSfozL"
      },
      "source": [
        "Finalmente, se aplicarmos duas vezes $H$ a $|1⟩$:"
      ]
    },
    {
      "cell_type": "code",
      "execution_count": 35,
      "metadata": {
        "colab": {
          "base_uri": "https://localhost:8080/",
          "height": 94
        },
        "id": "EQzjTnKlfrPS",
        "outputId": "caee4e98-90a8-4fa8-8ddf-282ebb40115c"
      },
      "outputs": [
        {
          "data": {
            "text/html": [
              "<pre style=\"word-wrap: normal;white-space: pre;background: #fff0;line-height: 1.1;font-family: &quot;Courier New&quot;,Courier,monospace\">        ┌───┐┌───┐┌───┐ ░ ┌─┐\n",
              "     q: ┤ X ├┤ H ├┤ H ├─░─┤M├\n",
              "        └───┘└───┘└───┘ ░ └╥┘\n",
              "meas: 1/═══════════════════╩═\n",
              "                           0 </pre>"
            ],
            "text/plain": [
              "        ┌───┐┌───┐┌───┐ ░ ┌─┐\n",
              "     q: ┤ X ├┤ H ├┤ H ├─░─┤M├\n",
              "        └───┘└───┘└───┘ ░ └╥┘\n",
              "meas: 1/═══════════════════╩═\n",
              "                           0 "
            ]
          },
          "execution_count": 35,
          "metadata": {},
          "output_type": "execute_result"
        }
      ],
      "source": [
        "qc = QuantumCircuit(qubits)\n",
        "\n",
        "qc.x(0)\n",
        "qc.h(0)\n",
        "qc.h(0)\n",
        "\n",
        "qc.measure_all()\n",
        "\n",
        "\n",
        "qc.draw()"
      ]
    },
    {
      "cell_type": "code",
      "execution_count": 36,
      "metadata": {
        "colab": {
          "base_uri": "https://localhost:8080/",
          "height": 504
        },
        "id": "3YWyCq1bfxMB",
        "outputId": "0b8ef2b0-2ae1-442f-e292-88b37883d5a1"
      },
      "outputs": [
        {
          "name": "stdout",
          "output_type": "stream",
          "text": [
            "{'1': 1024}\n"
          ]
        },
        {
          "data": {
            "image/png": "[encoded data removed]",
            "text/plain": [
              "<Figure size 640x480 with 1 Axes>"
            ]
          },
          "execution_count": 36,
          "metadata": {},
          "output_type": "execute_result"
        }
      ],
      "source": [
        "job = simulator.run([qc], shots=1024)\n",
        "counts = job.result().get_counts()\n",
        "\n",
        "print(counts)\n",
        "plot_histogram(counts)"
      ]
    },
    {
      "cell_type": "markdown",
      "metadata": {
        "id": "fL7QGwvbrPlj"
      },
      "source": [
        "1. Desenhe uma experiência para simular um fotão preparado em $|\\theta=30^\\circ⟩$, seguido de um polarizador vertical. De 1024 fotões, quantos passarão pelo polarizador?"
      ]
    },
    {
      "cell_type": "code",
      "execution_count": null,
      "metadata": {},
      "outputs": [
        {
          "data": {
            "text/html": [
              "<pre style=\"word-wrap: normal;white-space: pre;background: #fff0;line-height: 1.1;font-family: &quot;Courier New&quot;,Courier,monospace\">        ┌─────────┐ ░ ┌─┐\n",
              "     q: ┤ Ry(π/3) ├─░─┤M├\n",
              "        └─────────┘ ░ └╥┘\n",
              "meas: 1/═══════════════╩═\n",
              "                       0 </pre>"
            ],
            "text/plain": [
              "        ┌─────────┐ ░ ┌─┐\n",
              "     q: ┤ Ry(π/3) ├─░─┤M├\n",
              "        └─────────┘ ░ └╥┘\n",
              "meas: 1/═══════════════╩═\n",
              "                       0 "
            ]
          },
          "execution_count": 44,
          "metadata": {},
          "output_type": "execute_result"
        }
      ],
      "source": [
        "from math import pi\n",
        "\n",
        "qc = QuantumCircuit(1)\n",
        "\n",
        "theta = pi / 6\n",
        "qc.ry(2*theta, 0)  \n",
        "\n",
        "qc.measure_all()\n",
        "qc.draw()"
      ]
    },
    {
      "cell_type": "code",
      "execution_count": 50,
      "metadata": {},
      "outputs": [
        {
          "name": "stdout",
          "output_type": "stream",
          "text": [
            "{'1': 256, '0': 768}\n"
          ]
        },
        {
          "data": {
            "image/png": "[encoded data removed]",
            "text/plain": [
              "<Figure size 640x480 with 1 Axes>"
            ]
          },
          "execution_count": 50,
          "metadata": {},
          "output_type": "execute_result"
        }
      ],
      "source": [
        "job = simulator.run([qc], shots=1024)\n",
        "counts = job.result().get_counts()\n",
        "\n",
        "print(counts)\n",
        "plot_histogram(counts)"
      ]
    },
    {
      "cell_type": "markdown",
      "metadata": {
        "id": "-0Jy7W4iryw2"
      },
      "source": [
        "2. Crie agora 19 circuitos semelhantes, em que, em vez de 30 graus, o segundo polarizador está, sucessivamente, a 0, 10, 20, ..., 90, 100, 110, ..., 180 graus com a vertical. Utilize 1024 shots.\n",
        "\n",
        "Guarde as contagens em $|0⟩$ de cada vez, e faça plot da percentagem de vezes que obtém $|0⟩$ em função do ângulo."
      ]
    },
    {
      "cell_type": "code",
      "execution_count": null,
      "metadata": {},
      "outputs": [],
      "source": []
    },
    {
      "cell_type": "code",
      "execution_count": 37,
      "metadata": {
        "id": "JXnXA7YuriMM"
      },
      "outputs": [],
      "source": [
        "import numpy as np"
      ]
    },
    {
      "cell_type": "code",
      "execution_count": 38,
      "metadata": {
        "id": "VOeBlNk_6DhA"
      },
      "outputs": [],
      "source": [
        "def Rx(theta):\n",
        "  return np.array([\n",
        "      [np.cos(theta/2), -1j*np.sin(theta/2)],\n",
        "      [-1j*np.sin(theta/2), np.cos(theta/2)],\n",
        "  ])"
      ]
    },
    {
      "cell_type": "code",
      "execution_count": 39,
      "metadata": {
        "colab": {
          "base_uri": "https://localhost:8080/"
        },
        "id": "zFik9_VV6RSi",
        "outputId": "b412a954-4cef-4d0f-9cd8-9cf81cc52787"
      },
      "outputs": [
        {
          "data": {
            "text/plain": [
              "array([[6.123234e-17+0.j, 0.000000e+00-1.j],\n",
              "       [0.000000e+00-1.j, 6.123234e-17+0.j]])"
            ]
          },
          "execution_count": 39,
          "metadata": {},
          "output_type": "execute_result"
        }
      ],
      "source": [
        "Rx(np.pi)"
      ]
    },
    {
      "cell_type": "code",
      "execution_count": 40,
      "metadata": {
        "colab": {
          "base_uri": "https://localhost:8080/"
        },
        "id": "LEfG5J-v6VU7",
        "outputId": "32cc1030-9a8b-48f1-fbbb-0e4988b81e4c"
      },
      "outputs": [
        {
          "data": {
            "text/plain": [
              "array([[ 0.+0.j, -0.-1.j],\n",
              "       [-0.-1.j,  0.+0.j]])"
            ]
          },
          "execution_count": 40,
          "metadata": {},
          "output_type": "execute_result"
        }
      ],
      "source": [
        "np.array([\n",
        "    [0, -1j],\n",
        "    [-1j, 0],\n",
        "])"
      ]
    },
    {
      "cell_type": "code",
      "execution_count": null,
      "metadata": {
        "id": "uHVPACO76mo1"
      },
      "outputs": [],
      "source": []
    }
  ],
  "metadata": {
    "colab": {
      "provenance": []
    },
    "kernelspec": {
      "display_name": "Python 3",
      "name": "python3"
    },
    "language_info": {
      "codemirror_mode": {
        "name": "ipython",
        "version": 3
      },
      "file_extension": ".py",
      "mimetype": "text/x-python",
      "name": "python",
      "nbconvert_exporter": "python",
      "pygments_lexer": "ipython3",
      "version": "3.12.11"
    }
  },
  "nbformat": 4,
  "nbformat_minor": 0
}
